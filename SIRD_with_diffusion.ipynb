{
 "cells": [
  {
   "cell_type": "code",
   "execution_count": 3,
   "id": "042759bb-e63b-4428-b160-bd28a63a3786",
   "metadata": {},
   "outputs": [],
   "source": [
    "import pde\n",
    "import seaborn as sns\n",
    "import matplotlib.pyplot as plt\n",
    "import numpy as np"
   ]
  },
  {
   "cell_type": "markdown",
   "id": "0040a6cf-bfc1-45f4-9657-e65ed2f25650",
   "metadata": {},
   "source": [
    "# SIRD model with diffusive mobility \n",
    "based on https://py-pde.readthedocs.io/en/latest/examples_gallery/pde_sir.html"
   ]
  },
  {
   "cell_type": "code",
   "execution_count": 10,
   "id": "a4a5aaaa-2d7f-48ba-9193-0609c1e10a10",
   "metadata": {},
   "outputs": [],
   "source": [
    "SUSCEPTIBLE = \"(S) Podatny\"\n",
    "INFECTIOUS = \"(I) Zainfekowany\"\n",
    "RECOVERED = \"(R) Wyleczony\"\n",
    "DECEASED = \"(D) Zmarły\"\n",
    "\n",
    "class SIRD(pde.PDEBase):\n",
    "    \"\"\"SIRD model with diffusive mobility\"\"\"\n",
    "\n",
    "    def __init__(self, beta=0.4, gamma=0.04, mi=0.005, diffusion=1.0, bc=\"auto_periodic_neumann\"):\n",
    "        \"\"\"\n",
    "            beta: transmission rate\n",
    "            gamma: recovery rate\n",
    "            mi: mortality\n",
    "            diffusion: spatial mobility\n",
    "            bc: boundary condition\n",
    "        \"\"\"\n",
    "        super().__init__()\n",
    "        self.beta = beta\n",
    "        self.gamma = gamma\n",
    "        self.mi = mi\n",
    "        self.diffusion = diffusion\n",
    "        self.bc = bc\n",
    "\n",
    "    def get_initial_state(self, s: pde.ScalarField, i: pde.ScalarField)->pde.FieldCollection:\n",
    "        \"\"\"get initial state\"\"\"\n",
    "        norm = (s + i).data.max()  # maximal density\n",
    "        if norm > 1:\n",
    "            s /= norm\n",
    "            i /= norm\n",
    "\n",
    "        # create deceased and recovered field\n",
    "        d = pde.ScalarField(s.grid, data=0, label=DECEASED)\n",
    "        r = pde.ScalarField(s.grid, data=1 - s - i - d, label=RECOVERED)\n",
    "        return pde.FieldCollection([s, i, r, d])\n",
    "\n",
    "    def evolution_rate(self, state, t=0):\n",
    "        s, i, r, d = state\n",
    "        ds_dt = self.diffusion * s.laplace(self.bc) - self.beta * i * s\n",
    "        di_dt = self.diffusion * i.laplace(self.bc) + self.beta * i * s - self.gamma * i - self.mi * i\n",
    "        dr_dt = self.diffusion * r.laplace(self.bc) + self.gamma * i\n",
    "        dd_dt = d.laplace(self.bc) + self.mi * i\n",
    "        return pde.FieldCollection([ds_dt, di_dt, dr_dt, dd_dt])"
   ]
  },
  {
   "cell_type": "markdown",
   "id": "db6b9136-45cf-4a3d-9b60-e9215ba281c6",
   "metadata": {
    "tags": []
   },
   "source": [
    "# Simulation plotting parameters"
   ]
  },
  {
   "cell_type": "code",
   "execution_count": 4,
   "id": "fcd08c26-2ef0-4503-b973-805fac82feea",
   "metadata": {
    "tags": []
   },
   "outputs": [],
   "source": [
    "plot_2D_args={\"vmin\": 0, \"vmax\": 1,'cmap':'coolwarm'}\n",
    "plot_1D_args={'ax_style': {'xlim': (0, 150), 'ylim': (0, 1)}}"
   ]
  },
  {
   "cell_type": "markdown",
   "id": "ee401260-597b-4e22-9b57-20776e7b5337",
   "metadata": {},
   "source": [
    "# SIR 1D"
   ]
  },
  {
   "cell_type": "code",
   "execution_count": 13,
   "id": "232496e9-a88f-4a1a-adbb-a2e0b68cfb57",
   "metadata": {},
   "outputs": [
    {
     "data": {
      "application/vnd.jupyter.widget-view+json": {
       "model_id": "fc234126685941e393179321e3b1f3ad",
       "version_major": 2,
       "version_minor": 0
      },
      "text/plain": [
       "  0%|          | 0/100.0 [00:00<?, ?it/s]"
      ]
     },
     "metadata": {},
     "output_type": "display_data"
    },
    {
     "data": {
      "application/vnd.jupyter.widget-view+json": {
       "model_id": "99ec1d2ff0ba4acbbbd17ae5555200ad",
       "version_major": 2,
       "version_minor": 0
      },
      "text/plain": [
       "Output()"
      ]
     },
     "metadata": {},
     "output_type": "display_data"
    },
    {
     "name": "stderr",
     "output_type": "stream",
     "text": [
      "Spent more time on handling trackers (3) than on the actual simulation (0.406)\n"
     ]
    }
   ],
   "source": [
    "equation = SIRD(beta=0.4, gamma=0.04, mi=0.005, diffusion=1)\n",
    "# initialize state\n",
    "grid = pde.UnitGrid([150])\n",
    "s = pde.ScalarField(grid=grid, data=1, label=SUSCEPTIBLE)\n",
    "i = pde.ScalarField(grid=grid, data=0, label=INFECTIOUS)\n",
    "s.data[0] = 0\n",
    "i.data[0] = 1\n",
    "state = equation.get_initial_state(s, i)\n",
    "\n",
    "storage = pde.MemoryStorage()\n",
    "tracker = pde.PlotTracker(interval=10, plot_args=plot_1D_args)\n",
    "solution = equation.solve(state, t_range=100, dt=1e-1, tracker=[\"progress\", tracker, storage.tracker(interval=1)])"
   ]
  },
  {
   "cell_type": "code",
   "execution_count": 15,
   "id": "02d4adad-8a56-4595-be3c-e3c37e6aa755",
   "metadata": {},
   "outputs": [],
   "source": [
    "#save simulation as movie\n",
    "pde.movie(storage=storage, filename='./movies/pde_sird_1D.mp4', progress=True, show_time=True, plot_args=plot_1D_args)"
   ]
  },
  {
   "cell_type": "markdown",
   "id": "d9fd837a-4d7f-477c-bb1d-941daf16ed6c",
   "metadata": {},
   "source": [
    "# SIR 2D"
   ]
  },
  {
   "cell_type": "code",
   "execution_count": 15,
   "id": "52831fd2-e275-467e-bd98-961b305a6615",
   "metadata": {},
   "outputs": [
    {
     "data": {
      "application/vnd.jupyter.widget-view+json": {
       "model_id": "c7e472ac26304cc9831699f3c35d9ee6",
       "version_major": 2,
       "version_minor": 0
      },
      "text/plain": [
       "  0%|          | 0/100.0 [00:00<?, ?it/s]"
      ]
     },
     "metadata": {},
     "output_type": "display_data"
    },
    {
     "data": {
      "application/vnd.jupyter.widget-view+json": {
       "model_id": "13df0bb11f454eabb61bcad23212c421",
       "version_major": 2,
       "version_minor": 0
      },
      "text/plain": [
       "Output()"
      ]
     },
     "metadata": {},
     "output_type": "display_data"
    },
    {
     "name": "stderr",
     "output_type": "stream",
     "text": [
      "Spent more time on handling trackers (4.66) than on the actual simulation (1)\n"
     ]
    }
   ],
   "source": [
    "equation = SIRD(beta=0.4, gamma=0.04, mi=0.005, diffusion=1)\n",
    "# initialize state\n",
    "grid = pde.UnitGrid([100, 100])\n",
    "s = pde.ScalarField(grid=grid, data=1, label=SUSCEPTIBLE)\n",
    "i = pde.ScalarField(grid=grid, data=0, label=INFECTIOUS)\n",
    "s.data[0, 0] = 0\n",
    "i.data[0, 0] = 1\n",
    "state = equation.get_initial_state(s, i)\n",
    "\n",
    "storage = pde.MemoryStorage()\n",
    "tracker = pde.PlotTracker(interval=10, plot_args=plot_2D_args)\n",
    "solution = equation.solve(state, t_range=100, dt=1e-1, tracker=[\"progress\", tracker, storage.tracker(interval=1)])"
   ]
  },
  {
   "cell_type": "code",
   "execution_count": null,
   "id": "b64dd65d",
   "metadata": {},
   "outputs": [],
   "source": [
    "#save simulation as movie\n",
    "pde.movie(storage=storage, filename='./movies/pde_sird_2D.mp4', progress=True, show_time=True, plot_args=plot_1D_args)"
   ]
  }
 ],
 "metadata": {
  "kernelspec": {
   "display_name": "Python 3 (ipykernel)",
   "language": "python",
   "name": "python3"
  },
  "language_info": {
   "codemirror_mode": {
    "name": "ipython",
    "version": 3
   },
   "file_extension": ".py",
   "mimetype": "text/x-python",
   "name": "python",
   "nbconvert_exporter": "python",
   "pygments_lexer": "ipython3",
   "version": "3.9.16"
  }
 },
 "nbformat": 4,
 "nbformat_minor": 5
}
