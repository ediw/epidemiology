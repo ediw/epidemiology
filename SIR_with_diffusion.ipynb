{
 "cells": [
  {
   "cell_type": "code",
   "execution_count": 25,
   "id": "042759bb-e63b-4428-b160-bd28a63a3786",
   "metadata": {},
   "outputs": [],
   "source": [
    "import pde\n",
    "import seaborn as sns\n",
    "import matplotlib.pyplot as plt\n",
    "import numpy as np"
   ]
  },
  {
   "cell_type": "markdown",
   "id": "1c7f6d06-a7bb-4436-9bd1-8c70aabe439a",
   "metadata": {},
   "source": [
    "# SIR model with diffusive mobility \n",
    "based on https://py-pde.readthedocs.io/en/latest/examples_gallery/pde_sir.html"
   ]
  },
  {
   "cell_type": "code",
   "execution_count": 26,
   "id": "768f1463-d2c2-4af4-852a-bf754dc8b104",
   "metadata": {},
   "outputs": [],
   "source": [
    "SUSCEPTIBLE = \"(S) Podatny\"\n",
    "INFECTIOUS = \"(I) Zainfekowany\"\n",
    "RECOVERED = \"(R) Wyleczony\"\n",
    "\n",
    "class SIR(pde.PDEBase):\n",
    "    \"\"\"SIR model with diffusive mobility\"\"\"\n",
    "\n",
    "    def __init__(self, beta=0.4, gamma=0.04, diffusion=1.0, bc=\"auto_periodic_neumann\"):\n",
    "        \"\"\"\n",
    "            beta: transmission rate\n",
    "            gamma: recovery rate\n",
    "            diffusion: spatial mobility\n",
    "            bc: boundary condition\n",
    "        \"\"\"\n",
    "        super().__init__()\n",
    "        self.beta = beta\n",
    "        self.gamma = gamma\n",
    "        self.diffusion = diffusion\n",
    "        self.bc = bc\n",
    "\n",
    "    def get_initial_state(self, s: pde.ScalarField, i: pde.ScalarField)->pde.FieldCollection:\n",
    "        \"\"\"get initial state\"\"\"\n",
    "        norm = (s + i).data.max()  # maximal density\n",
    "        if norm > 1:\n",
    "            s /= norm\n",
    "            i /= norm\n",
    "\n",
    "        # create recovered field\n",
    "        r = pde.ScalarField(s.grid, data=1 - s - i, label=RECOVERED)\n",
    "        return pde.FieldCollection([s, i, r])\n",
    "\n",
    "    def evolution_rate(self, state, t=0):\n",
    "        s, i, r = state\n",
    "        ds_dt = self.diffusion * s.laplace(self.bc) - self.beta * i * s\n",
    "        di_dt = self.diffusion * i.laplace(self.bc) + self.beta * i * s - self.gamma * i\n",
    "        dr_dt = self.diffusion * r.laplace(self.bc) + self.gamma * i\n",
    "        return pde.FieldCollection([ds_dt, di_dt, dr_dt])"
   ]
  },
  {
   "cell_type": "markdown",
   "id": "9672905b-66ba-49c7-b70c-13e286741bab",
   "metadata": {},
   "source": [
    "# Simulation plotting parameters"
   ]
  },
  {
   "cell_type": "code",
   "execution_count": 27,
   "id": "fc53beb2-41a7-4428-ab42-45f633cbc4d4",
   "metadata": {},
   "outputs": [],
   "source": [
    "plot_1D_args={'ax_style': {'xlim': (0, 150), 'ylim': (0, 1)}}\n",
    "plot_2D_args={\"vmin\": 0, \"vmax\": 1,'cmap':'coolwarm'}"
   ]
  },
  {
   "cell_type": "markdown",
   "id": "aa432ab6-2244-47d6-a071-18a91ab71836",
   "metadata": {},
   "source": [
    "# SIR 1D"
   ]
  },
  {
   "cell_type": "code",
   "execution_count": 28,
   "id": "8887389a-7bf4-4804-9d93-a4d6be3b58a0",
   "metadata": {},
   "outputs": [
    {
     "data": {
      "application/vnd.jupyter.widget-view+json": {
       "model_id": "491343c0208d423082d1434721f0075f",
       "version_major": 2,
       "version_minor": 0
      },
      "text/plain": [
       "  0%|          | 0/100.0 [00:00<?, ?it/s]"
      ]
     },
     "metadata": {},
     "output_type": "display_data"
    },
    {
     "data": {
      "application/vnd.jupyter.widget-view+json": {
       "model_id": "8d491f54be7d4476b06d6b874bbf89fb",
       "version_major": 2,
       "version_minor": 0
      },
      "text/plain": [
       "Output()"
      ]
     },
     "metadata": {},
     "output_type": "display_data"
    },
    {
     "name": "stderr",
     "output_type": "stream",
     "text": [
      "Spent more time on handling trackers (2.36) than on the actual simulation (0.344)\n"
     ]
    }
   ],
   "source": [
    "equation = SIR(beta=0.4, gamma=0.04, diffusion=1)\n",
    "# initialize state\n",
    "grid = pde.UnitGrid([150])\n",
    "s = pde.ScalarField(grid=grid, data=1, label=SUSCEPTIBLE)\n",
    "i = pde.ScalarField(grid=grid, data=0, label=INFECTIOUS)\n",
    "s.data[0] = 0\n",
    "i.data[0] = 1\n",
    "state = equation.get_initial_state(s, i)\n",
    "\n",
    "storage = pde.MemoryStorage()\n",
    "tracker = pde.PlotTracker(interval=10, title= \"SIR 1D\",plot_args=plot_1D_args)\n",
    "solution = equation.solve(state, t_range=100, dt=1e-1, tracker=[\"progress\", tracker, storage.tracker(interval=1)])"
   ]
  },
  {
   "cell_type": "code",
   "execution_count": 29,
   "id": "be313151-fb59-483a-9edc-222546d13caf",
   "metadata": {},
   "outputs": [
    {
     "data": {
      "application/vnd.jupyter.widget-view+json": {
       "model_id": "26a96403371240e0ba5621e1114a8023",
       "version_major": 2,
       "version_minor": 0
      },
      "text/plain": [
       "  0%|          | 0/101 [00:00<?, ?it/s]"
      ]
     },
     "metadata": {},
     "output_type": "display_data"
    }
   ],
   "source": [
    "#save simulation as movie\n",
    "pde.movie(storage=storage, filename='./movies/pde_sir_1D.mp4', progress=True, show_time=True, plot_args=plot_1D_args)"
   ]
  },
  {
   "cell_type": "markdown",
   "id": "720d35c8-05ba-49a7-a029-bc4cffb54a97",
   "metadata": {},
   "source": [
    "# SIR 2D"
   ]
  },
  {
   "cell_type": "code",
   "execution_count": 30,
   "id": "ccfc82bf-b44d-419c-9109-7a03a1ffc264",
   "metadata": {},
   "outputs": [
    {
     "data": {
      "application/vnd.jupyter.widget-view+json": {
       "model_id": "47039acd03ee45d88fa62821c643098d",
       "version_major": 2,
       "version_minor": 0
      },
      "text/plain": [
       "  0%|          | 0/100.0 [00:00<?, ?it/s]"
      ]
     },
     "metadata": {},
     "output_type": "display_data"
    },
    {
     "data": {
      "application/vnd.jupyter.widget-view+json": {
       "model_id": "9c324f9ff660422780e2589d30ad6609",
       "version_major": 2,
       "version_minor": 0
      },
      "text/plain": [
       "Output()"
      ]
     },
     "metadata": {},
     "output_type": "display_data"
    },
    {
     "name": "stderr",
     "output_type": "stream",
     "text": [
      "Spent more time on handling trackers (3.84) than on the actual simulation (0.781)\n"
     ]
    }
   ],
   "source": [
    "equation = SIR(beta=0.4, gamma=0.04, diffusion=1)\n",
    "# initialize state\n",
    "grid = pde.UnitGrid([100, 100])\n",
    "s = pde.ScalarField(grid=grid, data=1, label=SUSCEPTIBLE)\n",
    "i = pde.ScalarField(grid=grid, data=0, label=INFECTIOUS)\n",
    "s.data[0, 0] = 0\n",
    "i.data[0, 0] = 1\n",
    "state = equation.get_initial_state(s, i)\n",
    "\n",
    "storage = pde.MemoryStorage()\n",
    "tracker = pde.PlotTracker(interval=10, plot_args=plot_2D_args)\n",
    "solution = equation.solve(state, t_range=100, dt=1e-1, tracker=[\"progress\", tracker, storage.tracker(interval=1)])"
   ]
  },
  {
   "cell_type": "code",
   "execution_count": null,
   "id": "b64dd65d",
   "metadata": {},
   "outputs": [],
   "source": [
    "#save simulation as movie\n",
    "pde.movie(storage=storage, filename='./movies/pde_sir_2D.mp4', progress=True, show_time=True, plot_args=plot_args)"
   ]
  }
 ],
 "metadata": {
  "kernelspec": {
   "display_name": "Python 3 (ipykernel)",
   "language": "python",
   "name": "python3"
  },
  "language_info": {
   "codemirror_mode": {
    "name": "ipython",
    "version": 3
   },
   "file_extension": ".py",
   "mimetype": "text/x-python",
   "name": "python",
   "nbconvert_exporter": "python",
   "pygments_lexer": "ipython3",
   "version": "3.9.16"
  }
 },
 "nbformat": 4,
 "nbformat_minor": 5
}
